{
 "cells": [
  {
   "cell_type": "code",
   "execution_count": 1,
   "metadata": {},
   "outputs": [
    {
     "data": {
      "text/plain": [
       "2"
      ]
     },
     "execution_count": 1,
     "metadata": {},
     "output_type": "execute_result"
    }
   ],
   "source": [
    "1+1"
   ]
  },
  {
   "cell_type": "code",
   "execution_count": 32,
   "metadata": {},
   "outputs": [
    {
     "name": "stdout",
     "output_type": "stream",
     "text": [
      "Loaded as API: https://aadi8anant-agent-47.hf.space ✔\n",
      "me\n"
     ]
    }
   ],
   "source": [
    "from gradio_client import Client\n",
    "\n",
    "client = Client(\"aadi8anant/Agent-47\")\n",
    "result = client.predict(\n",
    "\t\tmessage=\"Who are you?\",\n",
    "\t\tapi_name=\"/chat\"\n",
    ")\n",
    "print(result)"
   ]
  },
  {
   "cell_type": "code",
   "execution_count": 4,
   "metadata": {},
   "outputs": [
    {
     "name": "stdout",
     "output_type": "stream",
     "text": [
      "why?\n"
     ]
    }
   ],
   "source": [
    "result = client.predict(\n",
    "\t\tmessage=\"aree \",\n",
    "\t\tapi_name=\"/chat\"\n",
    ")\n",
    "print(result)"
   ]
  },
  {
   "cell_type": "code",
   "execution_count": 38,
   "metadata": {},
   "outputs": [
    {
     "name": "stdout",
     "output_type": "stream",
     "text": [
      "i'll be there in 5 minutes\n"
     ]
    }
   ],
   "source": [
    "result = client.predict(\n",
    "    message=\"what the flick?\",\n",
    "    api_name=\"/chat\"\n",
    ")\n",
    "print(result)"
   ]
  },
  {
   "cell_type": "code",
   "execution_count": 1,
   "metadata": {},
   "outputs": [
    {
     "name": "stdout",
     "output_type": "stream",
     "text": [
      "Server started at local_ip_of_this_pc:8000\n",
      "Print Ctrl+C to exit\n"
     ]
    }
   ],
   "source": [
    "import pywhatkit\n",
    "pywhatkit.start_server()"
   ]
  },
  {
   "cell_type": "code",
   "execution_count": 2,
   "metadata": {},
   "outputs": [
    {
     "name": "stdout",
     "output_type": "stream",
     "text": [
      "nice\n"
     ]
    }
   ],
   "source": [
    "print(\"nice\")"
   ]
  },
  {
   "cell_type": "code",
   "execution_count": 5,
   "metadata": {},
   "outputs": [
    {
     "name": "stdout",
     "output_type": "stream",
     "text": [
      "In 16 Seconds WhatsApp will open and after 15 Seconds Message will be Delivered!\n"
     ]
    }
   ],
   "source": [
    "import pywhatkit\n",
    "\n",
    "# Send a WhatsApp Message to a Contact at 1:30 PM\n",
    "pywhatkit.sendwhatmsg(\"+913435032234\", \"Hi\", 2, 3)"
   ]
  },
  {
   "cell_type": "code",
   "execution_count": 6,
   "metadata": {},
   "outputs": [
    {
     "data": {
      "text/plain": [
       "'https://www.youtube.com/watch?v=FHCFO1WPaqQ\\\\\\\\u0026pp=YAHIAQHwAQG6AwIYAugFAaIGFQHj88ETP5PRC3qwaRlZSWLcrcPEgZAHAg%3D%3D'"
      ]
     },
     "execution_count": 6,
     "metadata": {},
     "output_type": "execute_result"
    }
   ],
   "source": [
    "pywhatkit.playonyt(\"PyWhatKit\")"
   ]
  },
  {
   "cell_type": "code",
   "execution_count": 1,
   "metadata": {},
   "outputs": [
    {
     "name": "stdout",
     "output_type": "stream",
     "text": [
      "10:16:35\n"
     ]
    }
   ],
   "source": [
    "import time\n",
    "current_time = time.strftime(\"%H:%M:%S\")\n",
    "print(current_time)"
   ]
  },
  {
   "cell_type": "code",
   "execution_count": 10,
   "metadata": {},
   "outputs": [
    {
     "name": "stdout",
     "output_type": "stream",
     "text": [
      "In 38 Seconds WhatsApp will open and after 15 Seconds Message will be Delivered!\n"
     ]
    }
   ],
   "source": [
    "# send a message to a contact just before 20 seconds of current time\n",
    "import pywhatkit\n",
    "current_time = time.strftime(\"%H:%M:%S\")\n",
    "current_hr = int(current_time[0:2])\n",
    "current_min = int(current_time[3:5])\n",
    "pywhatkit.sendwhatmsg(\"+9123534633\", \"Nothing like that\", current_hr, current_min+1)"
   ]
  },
  {
   "cell_type": "code",
   "execution_count": 20,
   "metadata": {},
   "outputs": [],
   "source": [
    "pywhatkit.sendwhatmsg_instantly(\"+934634634634\", \"hein?\")"
   ]
  },
  {
   "cell_type": "code",
   "execution_count": 23,
   "metadata": {},
   "outputs": [],
   "source": [
    "pywhatkit.web_screenshot(\"https://www.google.com\", \".img/1.png\")"
   ]
  },
  {
   "cell_type": "code",
   "execution_count": 25,
   "metadata": {},
   "outputs": [
    {
     "name": "stdout",
     "output_type": "stream",
     "text": [
      "Log File does not Exist!\n"
     ]
    },
    {
     "ename": "",
     "evalue": "",
     "output_type": "error",
     "traceback": [
      "\u001b[1;31mThe Kernel crashed while executing code in the current cell or a previous cell. \n",
      "\u001b[1;31mPlease review the code in the cell(s) to identify a possible cause of the failure. \n",
      "\u001b[1;31mClick <a href='https://aka.ms/vscodeJupyterKernelCrash'>here</a> for more info. \n",
      "\u001b[1;31mView Jupyter <a href='command:jupyter.viewOutput'>log</a> for further details."
     ]
    }
   ],
   "source": []
  },
  {
   "cell_type": "code",
   "execution_count": 30,
   "metadata": {},
   "outputs": [
    {
     "name": "stdout",
     "output_type": "stream",
     "text": [
      "b'{\"idMessage\":\"BAE560BECCC17B88\"}'\n"
     ]
    }
   ],
   "source": [
    "import requests\n",
    "\n",
    "url = \"your greenapi base url here\"\n",
    "\n",
    "payload = {\n",
    "\"chatId\": \"recievers WA no.@c.us\", \n",
    "\"message\": \"thanks, you can stop now\", \n",
    "\"linkPreview\": True\n",
    "}\n",
    "headers = {\n",
    "'Content-Type': 'application/json'\n",
    "}\n",
    "\n",
    "response = requests.post(url, json=payload, headers=headers)\n",
    "\n",
    "print(response.text.encode('utf8'))"
   ]
  },
  {
   "cell_type": "code",
   "execution_count": 31,
   "metadata": {},
   "outputs": [
    {
     "name": "stdout",
     "output_type": "stream",
     "text": [
      "b'{\"invokeStatus\":{\"method\":\"lastincomingmessages\",\"used\":1000,\"total\":1000,\"status\":\"QUOTE_EXCEEDED\",\"description\":\"Monthly quota has been exceeded. Please go to your personal account and change the tariff to business https://console.green-api.com\"}}'\n"
     ]
    }
   ],
   "source": [
    "import requests\n",
    "\n",
    "url = \"your greenapi base url here\"\n",
    "\n",
    "payload = {\n",
    "\"minutes\": 0.1\n",
    "}\n",
    "headers= {}\n",
    "\n",
    "response = requests.request(\"GET\", url, headers=headers, data = payload)\n",
    "\n",
    "print(response.text.encode('utf8'))"
   ]
  },
  {
   "cell_type": "code",
   "execution_count": 28,
   "metadata": {},
   "outputs": [
    {
     "name": "stdout",
     "output_type": "stream",
     "text": [
      "\"Aditya\"\n",
      "\"Nhi ho rha kya lawde .\"\n"
     ]
    }
   ],
   "source": [
    "import requests\n",
    "import json\n",
    "\n",
    "url = \"your greenapi base url here\"\n",
    "\n",
    "payload = {\n",
    "    \"minutes\": 0.1\n",
    "}\n",
    "headers = {}\n",
    "\n",
    "response = requests.request(\"GET\", url, headers=headers, data=payload)\n",
    "\n",
    "# Parse JSON response\n",
    "try:\n",
    "    json_data = response.json()\n",
    "    \n",
    "    # Print formatted JSON\n",
    "    print(json.dumps(json_data[0]['senderName'], indent=2, ensure_ascii=False))\n",
    "    print(json.dumps(json_data[0]['textMessage'], indent=2, ensure_ascii=False))\n",
    "    a=json.dumps(json_data[0]['textMessage'], indent=2, ensure_ascii=False)\n",
    "    # If you need to access specific fields, you can do:\n",
    "    # Example: print(json_data['field_name'])\n",
    "    \n",
    "except json.JSONDecodeError as e:\n",
    "    print(f\"Error parsing JSON: {e}\")\n",
    "    print(\"Raw response:\", response.text)"
   ]
  },
  {
   "cell_type": "code",
   "execution_count": null,
   "metadata": {},
   "outputs": [
    {
     "name": "stdout",
     "output_type": "stream",
     "text": [
      "Loaded as API: https://aadi8anant-agent-47.hf.space ✔\n",
      "\"Aditya\"\n",
      "\"Nhi ho rha kya lawde .\"\n",
      "ohh no\n",
      "No new messages\n"
     ]
    }
   ],
   "source": []
  },
  {
   "cell_type": "code",
   "execution_count": 27,
   "metadata": {},
   "outputs": [
    {
     "data": {
      "text/plain": [
       "str"
      ]
     },
     "execution_count": 27,
     "metadata": {},
     "output_type": "execute_result"
    }
   ],
   "source": []
  },
  {
   "cell_type": "code",
   "execution_count": null,
   "metadata": {},
   "outputs": [],
   "source": []
  }
 ],
 "metadata": {
  "kernelspec": {
   "display_name": "chat_analysis",
   "language": "python",
   "name": "python3"
  },
  "language_info": {
   "codemirror_mode": {
    "name": "ipython",
    "version": 3
   },
   "file_extension": ".py",
   "mimetype": "text/x-python",
   "name": "python",
   "nbconvert_exporter": "python",
   "pygments_lexer": "ipython3",
   "version": "3.10.16"
  }
 },
 "nbformat": 4,
 "nbformat_minor": 2
}
